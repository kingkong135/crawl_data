{
 "cells": [
  {
   "cell_type": "code",
   "execution_count": 221,
   "metadata": {},
   "outputs": [],
   "source": [
    "import pandas as pd\n",
    "from pathlib import Path\n",
    "\n",
    "my_file = Path(\"xsmb.csv\")\n"
   ]
  },
  {
   "cell_type": "code",
   "execution_count": 233,
   "metadata": {},
   "outputs": [],
   "source": [
    "dateRange=pd.date_range(start='7/1/2013', end='12/4/2021')[::-1]\n",
    "days = {0:'Thu2',1:'Thu3',2:'Thu4',3:'Thu5',4:'Thu6',5:'Thu7',6:'CN'}\n",
    "prizes = {0:'Nhat',1:'Nhi',2:'Ba',3:'Tu',4:'Nam',5:'Sau',6:'Bay', 7:'DB'}\n",
    "df = pd.DataFrame()"
   ]
  },
  {
   "cell_type": "code",
   "execution_count": 234,
   "metadata": {},
   "outputs": [
    {
     "data": {
      "text/plain": [
       "3079"
      ]
     },
     "execution_count": 234,
     "metadata": {},
     "output_type": "execute_result"
    }
   ],
   "source": [
    "n = dateRange.size\n",
    "n"
   ]
  },
  {
   "cell_type": "code",
   "execution_count": 235,
   "metadata": {},
   "outputs": [
    {
     "data": {
      "text/plain": [
       "Timestamp('2013-09-01 00:00:00', freq='-1D')"
      ]
     },
     "execution_count": 235,
     "metadata": {},
     "output_type": "execute_result"
    }
   ],
   "source": [
    "dateRange[3016]"
   ]
  },
  {
   "cell_type": "code",
   "execution_count": 236,
   "metadata": {},
   "outputs": [],
   "source": [
    "for index in range(3017,n):\n",
    "    day = dateRange[index]\n",
    "    ngay = day.strftime(\"%d%m%Y\")\n",
    "    k = day.dayofweek\n",
    "    d = day.strftime('%d-%m-%Y')\n",
    "    url = f\"https://xoso.com.vn/xsmb-{d}.html\"\n",
    "    \n",
    "    per_day = {}\n",
    "    \n",
    "#     print(index)\n",
    "#     print(d)\n",
    "#     print(url)\n",
    "#     print()\n",
    "    \n",
    "    per_day['Thu'] = days[k]\n",
    "    per_day['Ngay'] = ngay\n",
    "    try:\n",
    "        data = get_data(url, per_day, row_index)\n",
    "        if not my_file.is_file():\n",
    "            data.to_csv(\"xsmb.csv\", index=False)\n",
    "        else:\n",
    "            data.to_csv('xsmb.csv', mode='a', header=False, index=False)\n",
    "    except:\n",
    "        print(index)\n",
    "        print(d)\n",
    "        print(url)\n",
    "#     df = pd.concat([df, data])\n",
    "\n",
    "\n",
    "    "
   ]
  },
  {
   "cell_type": "code",
   "execution_count": 226,
   "metadata": {},
   "outputs": [],
   "source": [
    "def get_data(url=\"\", per_day={}, row_index=0):\n",
    "    data = pd.read_html(url)[0]\n",
    "    data = data.drop([0]) # remove columns 0\n",
    "    idx = data.index.tolist()\n",
    "    data = data.reindex(idx[1:] + [1]).reset_index(drop=True) # move row 0 to end\n",
    "#     print(data)\n",
    "    for id, rows in data.iterrows():\n",
    "        for index, i in enumerate(rows[1].split(\" \")):\n",
    "            \n",
    "            if id == 7:\n",
    "                per_day[f\"{prizes[id]}\"] = i\n",
    "            else:\n",
    "                per_day[f\"{prizes[id]}_{index+1}\"] = i\n",
    "    df = pd.DataFrame(per_day,index=[row_index,])\n",
    "    return df"
   ]
  },
  {
   "cell_type": "code",
   "execution_count": null,
   "metadata": {},
   "outputs": [],
   "source": []
  }
 ],
 "metadata": {
  "kernelspec": {
   "display_name": "Python 3",
   "language": "python",
   "name": "python3"
  },
  "language_info": {
   "codemirror_mode": {
    "name": "ipython",
    "version": 3
   },
   "file_extension": ".py",
   "mimetype": "text/x-python",
   "name": "python",
   "nbconvert_exporter": "python",
   "pygments_lexer": "ipython3",
   "version": "3.8.8"
  }
 },
 "nbformat": 4,
 "nbformat_minor": 4
}
